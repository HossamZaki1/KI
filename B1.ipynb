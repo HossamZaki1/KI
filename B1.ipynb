{
  "nbformat": 4,
  "nbformat_minor": 0,
  "metadata": {
    "colab": {
      "name": "B1.ipynb",
      "provenance": [],
      "collapsed_sections": [],
      "include_colab_link": true
    },
    "kernelspec": {
      "display_name": "Python 3",
      "language": "python",
      "name": "python3"
    },
    "language_info": {
      "codemirror_mode": {
        "name": "ipython",
        "version": 3
      },
      "file_extension": ".py",
      "mimetype": "text/x-python",
      "name": "python",
      "nbconvert_exporter": "python",
      "pygments_lexer": "ipython3",
      "version": "3.8.8"
    }
  },
  "cells": [
    {
      "cell_type": "markdown",
      "metadata": {
        "id": "view-in-github",
        "colab_type": "text"
      },
      "source": [
        "<a href=\"https://colab.research.google.com/github/HossamZaki1/KI/blob/main/B1.ipynb\" target=\"_parent\"><img src=\"https://colab.research.google.com/assets/colab-badge.svg\" alt=\"Open In Colab\"/></a>"
      ]
    },
    {
      "cell_type": "markdown",
      "metadata": {
        "id": "Og0rv9Y99TA-"
      },
      "source": [
        "# Aufgabe 1.3 (Alpha-Beta-Pruning)\n",
        "In dieser Aufgabe soll die  MinMax Suche mit Alpha-Beta Pruning implementiert werden. Zunächst definieren wir eine Klasse `Node` mit dem zugehörigen Konstruktor. Das Grundgerüst dazu ist bereits in der nächsten Zelle angegeben und kennen Sie vielleicht schon aus Übungsblatt 0. Sie können den Konstruktor um zusätzliche Parameter (z.B. `alpha`, `beta` und `value`) erweitern.\n",
        "<br>\n",
        "<br>\n",
        "**Hinweis:** <br>\n",
        "Wir importieren das Package `jdc` um die Definition dieser Klasse auf mehrere Zellen zu verteilen und somit zwischendurch Hilfestellung geben zu können. Wir werden dieses Package auch in zukünftigen Übungsblättern verwenden. Sie müssen sich jedoch nicht weiter mit diesem Package auseinandersetzen, da alles notwendige vorgegeben sein wird. Für alle Interessierten:\n",
        "* wir benötigen `!pip install jdc` um das Package zu installieren, da das Packages standardmäßig nicht installiert ist.\n",
        "* mit `import jdc` importieren wir das Package\n",
        "* wir schreiben `%%add_to CLASSNAME` in die erste Zeile einer Zelle (oder alternativ nach den Package imports) um alle Methoden dieser Zelle der Klasse `CLASSNAME` zuzuordnen.\n"
      ]
    },
    {
      "cell_type": "code",
      "metadata": {
        "colab": {
          "base_uri": "https://localhost:8080/"
        },
        "id": "ZnszJO7S9U9w",
        "outputId": "2be11c6d-e5f4-44c5-859d-6bc73b079546"
      },
      "source": [
        "# Um Klassendefinition auf mehrere Zellen aufteilen zu können.\n",
        "!pip install jdc\n",
        "import jdc\n",
        "\n",
        "class Node:\n",
        "    MIN = (-10)**9\n",
        "    MAX = (10)**9\n",
        "    def __init__(self, id, children, alpha = MIN, beta = MAX, value = MAX):\n",
        "        self.id = id\n",
        "        self.children = children\n",
        "        self.alpha = alpha\n",
        "        self.beta = beta\n",
        "        self.value = value"
      ],
      "execution_count": null,
      "outputs": [
        {
          "name": "stdout",
          "output_type": "stream",
          "text": [
            "Requirement already satisfied: jdc in /home/hossam/anaconda3/lib/python3.8/site-packages (0.0.9)\r\n"
          ]
        }
      ]
    },
    {
      "cell_type": "markdown",
      "metadata": {
        "id": "4Td-S71m7eLR"
      },
      "source": [
        "Verwenden Sie jetzt diese Klasse um den Suchbaum aus Aufgabe 1.2 zu konstruieren. Wenn Sie möchten, können Sie diese Konstruktion in eine Funktion packen um eine bessere Übersicht zu gewähren und die Sichtbarkeit der Variablennamen einzuschränken."
      ]
    },
    {
      "cell_type": "code",
      "metadata": {
        "id": "Qw1s3USL7cyy"
      },
      "source": [
        "def baum_1():\n",
        "    # ToDo\n",
        "    blatt_0 = Node(id=0, children=[], value = 7)\n",
        "    blatt_1 = Node(id=1, children=[], value = 9)\n",
        "    blatt_2 = Node(id=2, children=[], value = 1)\n",
        "    blatt_3 = Node(id=3, children=[], value = 2)\n",
        "    blatt_4 = Node(id=4, children=[], value = 8)\n",
        "    blatt_5 = Node(id=5, children=[], value = 6)\n",
        "    blatt_6 = Node(id=6, children=[], value = 5)\n",
        "    blatt_7 = Node(id=7, children=[], value = 6)\n",
        "    blatt_8 = Node(id=8, children=[], value = 9)\n",
        "    blatt_9 = Node(id=9, children=[], value = 7)\n",
        "    blatt_10 = Node(id=10, children=[], value = 5)\n",
        "    blatt_11 = Node(id=11, children=[], value = 9)\n",
        "    blatt_12 = Node(id=12, children=[], value = 8)\n",
        "    blatt_13 = Node(id=13, children=[], value = 6)\n",
        "\n",
        "    #leftist third\n",
        "    node_0 = Node(id=100, children=[blatt_0,blatt_1])\n",
        "    node_1 = Node(id=101, children=[blatt_2,blatt_3,blatt_4])\n",
        "    node_2 = Node(id=102, children=[node_0,node_1])\n",
        "    \n",
        "    node_3 = Node(id=103, children=[blatt_5])\n",
        "    node_4 = Node(id=104, children=[node_3])\n",
        "\n",
        "    node_5 = Node(id=105, children=[node_2,node_4])\n",
        "    #middle third\n",
        "    node_00 = Node(id=1000, children=[blatt_6])\n",
        "    node_01 = Node(id=1001, children=[blatt_7,blatt_8])\n",
        "    node_02 = Node(id=1002, children=[node_00,node_01])\n",
        "    \n",
        "    node_03 = Node(id=1003, children=[blatt_9])\n",
        "    node_04 = Node(id=1004, children=[node_03])\n",
        "\n",
        "    node_05 = Node(id=1005, children=[node_02,node_04])\n",
        "    #rightest third\n",
        "    node_000 = Node(id=10000, children=[blatt_10])\n",
        "    node_001 = Node(id=10001, children=[node_000])\n",
        "\n",
        "    node_002 = Node(id=10002, children=[blatt_11,blatt_12])\n",
        "    node_003 = Node(id=10003, children=[blatt_13])\n",
        "    node_004 = Node(id=10004, children=[node_002,node_003])\n",
        "\n",
        "    node_005 = Node(id=10005, children=[node_001,node_004])\n",
        "\n",
        "    root = Node(id=-1, children=[node_5, node_05,node_005])\n",
        "\n",
        "    return root"
      ],
      "execution_count": null,
      "outputs": []
    },
    {
      "cell_type": "markdown",
      "metadata": {
        "id": "BEcMITIk6y2P"
      },
      "source": [
        "Jetzt soll die Methode `alpha_beta(...)` für die Klasse `Node` implementiert werden. Jenachdem welche Parameter Sie dem Konstruktor übergeben, benötigt die Methode `alpha_beta` mehr oder weniger Parameter. \n",
        "<br>\n",
        "Hinweis:\n",
        "Es gibt eine Möglichkeit, sodass sie der Methode `alpha_beta` gar keine Parameter übergeben müssen."
      ]
    },
    {
      "cell_type": "code",
      "metadata": {
        "id": "hO_x4wGDzn6X"
      },
      "source": [
        "%%add_to Node\n",
        "def alpha_beta(self,depth,alpha,beta,isMaximizer):\n",
        "    if depth == 0:\n",
        "      return self.value\n",
        "    else:\n",
        "      if isMaximizer:\n",
        "        self.value = (-10)**9\n",
        "        for child in self.children:\n",
        "          self.value = max(self.value,alpha_beta(child,depth-1,self.alpha,self.beta,False))\n",
        "          self.alpha = max(self.alpha, self.value)\n",
        "          if self.value >= self.beta:\n",
        "            break\n",
        "        return (self.value)\n",
        "      else:\n",
        "        self.value = (10)**9\n",
        "        for child in self.children:\n",
        "          self.value = min(self.value,alpha_beta(child,depth-1,self.alpha,self.beta,True))\n",
        "          self.beta = min(self.beta, self.value)\n",
        "          if self.value <= self.alpha:\n",
        "            break\n",
        "        return (self.value)\n"
      ],
      "execution_count": null,
      "outputs": []
    },
    {
      "cell_type": "markdown",
      "metadata": {
        "id": "Wyl8-mww02Z3"
      },
      "source": [
        "Als nächstes rufen wir die Methode auf dem Wurzelknoten auf,"
      ]
    },
    {
      "cell_type": "code",
      "metadata": {
        "id": "btfnTIwo04Ij",
        "outputId": "fd27194c-007d-4f17-8874-94ff8aa2cbfd"
      },
      "source": [
        "t = baum_1()\n",
        "print(t.alpha_beta(depth = 4,alpha = (-10)**9,beta = (10)**9, isMaximizer = True))"
      ],
      "execution_count": null,
      "outputs": [
        {
          "name": "stdout",
          "output_type": "stream",
          "text": [
            "6\n"
          ]
        }
      ]
    },
    {
      "cell_type": "markdown",
      "metadata": {
        "id": "Ankm9FUza4Cs"
      },
      "source": [
        "# Aufgabe 1.4 (A*-Suche)\n",
        "In dieser Aufgabe soll die A$^\\star$-Suche implementiert werden. Zunächst überschreiben wir die Klasse `Node` von oben, denn Parameter wie `alpha`, `beta` und `value` finden bei der A$^\\star$-Suche keine Anwendung mehr. Die A$^\\star$-Suche wird in der Regel nicht nur auf Bäume angewendet, sondern auf Graphen allgemein. Da Graphen auch Kreise enthalten können müssen wir eine Möglichkeit finden, diese Kreise zu erzeugen. Hierfür soll die Methode `set_children(self, child_weight_list)` verwendet werden."
      ]
    },
    {
      "cell_type": "code",
      "metadata": {
        "id": "yEeo4Z_565ga"
      },
      "source": [
        "class Node:\n",
        "    def __init__(self, id, children):\n",
        "        # ToDo\n",
        "        pass\n",
        "\n",
        "    def set_children(self, child_weight_list):\n",
        "        self.child_weight_list = child_weight_list"
      ],
      "execution_count": null,
      "outputs": []
    },
    {
      "cell_type": "markdown",
      "metadata": {
        "id": "Em7oaKv88foN"
      },
      "source": [
        "Definieren Sie jetzt den Graphen aus Aufgabe 1.1. a und b."
      ]
    },
    {
      "cell_type": "code",
      "metadata": {
        "id": "Zbb99k8hwh2K"
      },
      "source": [
        "def graph_1(is_task_a):\n",
        "    pass"
      ],
      "execution_count": null,
      "outputs": []
    },
    {
      "cell_type": "markdown",
      "metadata": {
        "id": "P8nO-lP0v_zY"
      },
      "source": [
        "Damit wir später ein `Node`-Objekt in die Queue legen können, müssen wir festlegen, wie zwei `Node`-Objekte verglichen werden können. Hierfür implementieren wir die \\_\\_lt\\_\\_() Methode (lt steht für \"less than\"). Zur Erinnerung, ein Knoten $u$ wird vor einem anderen Knoten $v$ besucht, wenn $$f(u) < f(v).$$\n",
        "Genau das implementieren wir jetzt in der Methode `__lt__(self, other)`. Sie müssen in der nächten Zelle also nichts mehr machen."
      ]
    },
    {
      "cell_type": "code",
      "metadata": {
        "id": "JK6tFZx6wAcE"
      },
      "source": [
        "%%add_to Node\n",
        "def __lt__(self, other):\n",
        "    return self.f < other.f"
      ],
      "execution_count": null,
      "outputs": []
    },
    {
      "cell_type": "markdown",
      "metadata": {
        "id": "mQ2fo_mN7JmQ"
      },
      "source": [
        "In der nächsten Zelle können Sie `print`-Methoden definieren. Damit soll die eigentliche Methode zur A$^\\star$-Suche übersichtlich bleiben. Zu Beginn können Sie die print-Satements auch in die Methode der A$^\\star$-Suche schreiben und diese dann später hier auslagern, falls sie zu lange werden."
      ]
    },
    {
      "cell_type": "code",
      "metadata": {
        "id": "yPxe9nF27K1C"
      },
      "source": [
        "%%add_to Node\n",
        "def print_1(self):\n",
        "    pass\n",
        "\n",
        "def print_2(self):\n",
        "    pass\n",
        "\n",
        "def print_3(self):\n",
        "    pass\n",
        "\n",
        "def print_4(self):\n",
        "    pass\n",
        "\n",
        "def print_5(self):\n",
        "    pass"
      ],
      "execution_count": null,
      "outputs": []
    },
    {
      "cell_type": "markdown",
      "metadata": {
        "id": "uOID-Yvnwb_l"
      },
      "source": [
        "Implementieren Sie jetzt die Methode `a_star(self, target_node_name)` so, dass eine A$^\\star$-Suche ausgehend vom aktuellen Knoten `self` zum Zielknoten mit dem Namen `target_node_name` durchgeführt wird und dabei den kürzesten Weg findet, auch wenn die Heuristik nicht monoton ist (d.h. ohne closed_list). In der nächsten Zelle sehen Sie, wie ein `Node`-Objekt in eine Priority-Queue gelegt werden kann. Weitere Informationen zur Verwendung des queue Packages finden Sie auf dem 0. Übungsblatt."
      ]
    },
    {
      "cell_type": "code",
      "metadata": {
        "id": "KQViivcvwEV6"
      },
      "source": [
        "import queue\n",
        "\n",
        "%%add_to Node\n",
        "def a_star(self, target_node_name):\n",
        "    open_list = queue.PriorityQueue()\n",
        "    open_list.put(self)\n",
        "    # ToDo"
      ],
      "execution_count": null,
      "outputs": []
    },
    {
      "cell_type": "markdown",
      "metadata": {
        "id": "Xh8cH_oq8gmC"
      },
      "source": [
        "Wenden Sie die A* Suche so an, wie in Aufgabe 1.1 a und b beschrieben. Lassen Sie sich zum Schluss den kürzesten (S,T)-Pfad ausgeben."
      ]
    },
    {
      "cell_type": "code",
      "metadata": {
        "id": "L6_QLMZo8kpx"
      },
      "source": [
        ""
      ],
      "execution_count": null,
      "outputs": []
    }
  ]
}